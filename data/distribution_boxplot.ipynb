{
 "cells": [
  {
   "cell_type": "code",
   "execution_count": 1,
   "metadata": {},
   "outputs": [],
   "source": [
    "import pandas as pd\n",
    "import numpy as np\n",
    "import requests\n",
    "from bs4 import BeautifulSoup"
   ]
  },
  {
   "cell_type": "code",
   "execution_count": 2,
   "metadata": {},
   "outputs": [],
   "source": [
    "# Function to convert money string to integer\n",
    "def money_str_int(str):\n",
    "    number = int(str.strip('$').replace(',',''))\n",
    "    return number"
   ]
  },
  {
   "cell_type": "code",
   "execution_count": 3,
   "metadata": {},
   "outputs": [],
   "source": [
    "#New Data\n",
    "\n",
    "def get_table(soup):\n",
    "    headers = [col.text.strip() for col in soup.findAll('th')] # column names\n",
    "    headers.append('URL')\n",
    "    rows = soup.findAll('table')[0].findAll('tr') # retrieve rows\n",
    "    data = []\n",
    "    base_url = 'https://www.boxofficemojo.com'\n",
    "\n",
    "    # Format table data\n",
    "    for row in rows[1:]:\n",
    "        # Get list of text displayed on web page\n",
    "        cell_data = row.findAll('td')\n",
    "        cells = [cell.text for cell in cell_data] \n",
    "        cells[2] = money_str_int(cells[2])\n",
    "\n",
    "        # Get URL for each movie and append to list\n",
    "        movie_url = base_url + row.find('a').attrs['href']\n",
    "        cells.append(movie_url)\n",
    "\n",
    "        # Add list to data\n",
    "        data.append(cells)\n",
    "        \n",
    "    return pd.DataFrame(data, columns = headers) #return a data frame"
   ]
  },
  {
   "cell_type": "code",
   "execution_count": 4,
   "metadata": {},
   "outputs": [
    {
     "data": {
      "text/html": [
       "<div>\n",
       "<style scoped>\n",
       "    .dataframe tbody tr th:only-of-type {\n",
       "        vertical-align: middle;\n",
       "    }\n",
       "\n",
       "    .dataframe tbody tr th {\n",
       "        vertical-align: top;\n",
       "    }\n",
       "\n",
       "    .dataframe thead th {\n",
       "        text-align: right;\n",
       "    }\n",
       "</style>\n",
       "<table border=\"1\" class=\"dataframe\">\n",
       "  <thead>\n",
       "    <tr style=\"text-align: right;\">\n",
       "      <th></th>\n",
       "      <th>Rank</th>\n",
       "      <th>Title</th>\n",
       "      <th>Lifetime Gross</th>\n",
       "      <th>Year</th>\n",
       "      <th>URL</th>\n",
       "    </tr>\n",
       "  </thead>\n",
       "  <tbody>\n",
       "    <tr>\n",
       "      <th>0</th>\n",
       "      <td>1</td>\n",
       "      <td>Star Wars: Episode VII - The Force Awakens</td>\n",
       "      <td>936662225</td>\n",
       "      <td>2015</td>\n",
       "      <td>https://www.boxofficemojo.com/title/tt2488496/...</td>\n",
       "    </tr>\n",
       "    <tr>\n",
       "      <th>1</th>\n",
       "      <td>2</td>\n",
       "      <td>Avengers: Endgame</td>\n",
       "      <td>858373000</td>\n",
       "      <td>2019</td>\n",
       "      <td>https://www.boxofficemojo.com/title/tt4154796/...</td>\n",
       "    </tr>\n",
       "    <tr>\n",
       "      <th>2</th>\n",
       "      <td>3</td>\n",
       "      <td>Avatar</td>\n",
       "      <td>760507625</td>\n",
       "      <td>2009</td>\n",
       "      <td>https://www.boxofficemojo.com/title/tt0499549/...</td>\n",
       "    </tr>\n",
       "    <tr>\n",
       "      <th>3</th>\n",
       "      <td>4</td>\n",
       "      <td>Black Panther</td>\n",
       "      <td>700426566</td>\n",
       "      <td>2018</td>\n",
       "      <td>https://www.boxofficemojo.com/title/tt1825683/...</td>\n",
       "    </tr>\n",
       "    <tr>\n",
       "      <th>4</th>\n",
       "      <td>5</td>\n",
       "      <td>Avengers: Infinity War</td>\n",
       "      <td>678815482</td>\n",
       "      <td>2018</td>\n",
       "      <td>https://www.boxofficemojo.com/title/tt4154756/...</td>\n",
       "    </tr>\n",
       "  </tbody>\n",
       "</table>\n",
       "</div>"
      ],
      "text/plain": [
       "  Rank                                       Title  Lifetime Gross  Year  \\\n",
       "0    1  Star Wars: Episode VII - The Force Awakens       936662225  2015   \n",
       "1    2                           Avengers: Endgame       858373000  2019   \n",
       "2    3                                      Avatar       760507625  2009   \n",
       "3    4                               Black Panther       700426566  2018   \n",
       "4    5                      Avengers: Infinity War       678815482  2018   \n",
       "\n",
       "                                                 URL  \n",
       "0  https://www.boxofficemojo.com/title/tt2488496/...  \n",
       "1  https://www.boxofficemojo.com/title/tt4154796/...  \n",
       "2  https://www.boxofficemojo.com/title/tt0499549/...  \n",
       "3  https://www.boxofficemojo.com/title/tt1825683/...  \n",
       "4  https://www.boxofficemojo.com/title/tt4154756/...  "
      ]
     },
     "execution_count": 4,
     "metadata": {},
     "output_type": "execute_result"
    }
   ],
   "source": [
    "url = 'https://www.boxofficemojo.com/chart/top_lifetime_gross/'\n",
    "base_url = 'https://www.boxofficemojo.com'\n",
    "df_movie = pd.DataFrame() \n",
    "\n",
    "# Get HTML data for top 1000 grossing movies from Box Office Mojo\n",
    "for i in range(5):\n",
    "    html_page = requests.get(url)\n",
    "    soup = BeautifulSoup(html_page.content, 'html.parser')\n",
    "    fetched_data = get_table(soup)\n",
    "    if i < 4:\n",
    "        url = base_url + soup.findAll('li', class_='a-last')[0].find('a').attrs[\"href\"]\n",
    "    df_movie = df_movie.append(fetched_data, ignore_index = True)\n",
    "    \n",
    "df_movie.head()"
   ]
  },
  {
   "cell_type": "code",
   "execution_count": 5,
   "metadata": {},
   "outputs": [],
   "source": [
    "# Iterate through above dataframe and pull data from each movie's page\n",
    "def get_movie_data(url):\n",
    "    movie_page = requests.get(url)\n",
    "    movie = BeautifulSoup(movie_page.content, 'html.parser')\n",
    "    divs = movie.findAll('div', class_='a-section a-spacing-none') #first section of table stored as divs instead of table\n",
    "\n",
    "    # Variables will come back as 'No Data' if the webpage doesn't have this information\n",
    "    distributor = 'No Data'\n",
    "    budget = 'No Data'\n",
    "    rating = 'No Data'\n",
    "    duration = 'No Data'\n",
    "    genres = 'No Data'\n",
    "\n",
    "    for div in divs:\n",
    "        spans = div.findAll('span')\n",
    "        i=0\n",
    "        for span in spans:      \n",
    "            if span.text  == 'Domestic Distributor':\n",
    "                distributor = spans[i+1].text.replace('See full company information\\n\\n','') #remove extra link text from end\n",
    "                i+=1\n",
    "                break\n",
    "            if span.text == 'Budget':\n",
    "                budget = money_str_int(spans[i+1].text) #convert budget string to integer\n",
    "                i+=1\n",
    "                break\n",
    "            if span.text == 'MPAA':\n",
    "                rating = spans[i+1].text\n",
    "                i+=1\n",
    "                break\n",
    "            if span.text == 'Running Time':\n",
    "                dur = spans[i+1].text.split() #imports duration as hours and minutes\n",
    "                if len(dur) == 2:\n",
    "                    dur.extend(['0','0'])\n",
    "                duration = round( (float(dur[0]) + float(dur[2])/60) , 2) #converts to hours rounded to hundreths\n",
    "                i+=1\n",
    "                break\n",
    "            if span.text == 'Genres':\n",
    "                genres = spans[i+1].text.replace(' ','').replace('\\n\\n',',') #.strip wasn't working for some reason\n",
    "                i+=1\n",
    "                break\n",
    "            else:\n",
    "                i+=1\n",
    "            \n",
    "    df_movie = pd.DataFrame([distributor, budget, rating, duration, genres]).transpose()\n",
    "    df_movie.columns = ['Distributor', 'Budget', 'Rating', 'Running_Time_hrs', 'Genres']\n",
    "\n",
    "    return df_movie"
   ]
  },
  {
   "cell_type": "code",
   "execution_count": null,
   "metadata": {},
   "outputs": [],
   "source": [
    "# loop to get data from first 500 URLs from prior dataframe (broke this up due to timeout issues\n",
    "df_movie_2 = pd.DataFrame(columns = ['Distributor', 'Budget', 'Rating', 'Running_Time_hrs', 'Genres'])\n",
    "for url in df_movie['URL'][:500]:\n",
    "    movie_data = get_movie_data(url)\n",
    "    df_movie_2 = df_movie_2.append(movie_data, ignore_index=True)\n",
    "df_movie_2"
   ]
  },
  {
   "cell_type": "code",
   "execution_count": null,
   "metadata": {},
   "outputs": [],
   "source": [
    "# loop to add data from last 500 URLs from prior dataframe\n",
    "for url in df_movie['URL'][500:]:\n",
    "    movie_data = get_movie_data(url)\n",
    "    df_movie_2 = df_movie_2.append(movie_data, ignore_index=True)"
   ]
  },
  {
   "cell_type": "code",
   "execution_count": null,
   "metadata": {},
   "outputs": [],
   "source": [
    "df_movie_2.columns = ['Distributor', 'Budget', 'Rating', 'Running_Time_hrs', 'Genres']\n",
    "result = pd.concat([df_movie, df_movie_2], axis=1, join='inner')\n",
    "result.to_pickle('cats_bomojo_data.pkl')"
   ]
  },
  {
   "cell_type": "code",
   "execution_count": null,
   "metadata": {},
   "outputs": [],
   "source": [
    "# RUN THIS CODE TO LOAD CAT'S DATA\n",
    "df_movie_3 = pd.read_pickle('cats_bomojo_data.pkl')\n",
    "df_movie_3.head()"
   ]
  },
  {
   "cell_type": "code",
   "execution_count": null,
   "metadata": {},
   "outputs": [],
   "source": [
    "# function to get unique values \n",
    "def unique(list1): \n",
    "  \n",
    "    # intilize a null list \n",
    "    unique_list = [] \n",
    "      \n",
    "    # traverse for all elements \n",
    "    for x in list1: \n",
    "        # check if exists in unique_list or not \n",
    "        if x not in unique_list: \n",
    "            unique_list.append(x) \n",
    "    # print list \n",
    "    for x in unique_list: \n",
    "        print(x)\n",
    "#get list of unique distributors\n",
    "unique(df_movie_3['Distributor'])"
   ]
  },
  {
   "cell_type": "code",
   "execution_count": null,
   "metadata": {},
   "outputs": [],
   "source": [
    "#trim list to top five distributors\n",
    "dist_data = df_movie_3['Distributor'].isin(['Twentieth Century Fox', 'Sony Pictures Entertainment (SPE)', \n",
    "                                       'Universal Pictures', 'Warner Bros.', 'Paramount Pictures'])\n",
    "top_distributors = object\n",
    "top_distributors = df_movie_3[dist_data]\n",
    "top_distributors"
   ]
  },
  {
   "cell_type": "code",
   "execution_count": null,
   "metadata": {},
   "outputs": [],
   "source": [
    "#import necessary libraries\n",
    "import matplotlib.pyplot as plt  \n",
    "\n",
    "#format and label the plot\n",
    "boxprops = dict(linestyle='-', linewidth=4, color='k')\n",
    "medianprops = dict(linestyle='-', linewidth=4, color='k')\n",
    "\n",
    "bp = top_distributors.boxplot(by ='Distributor', column =['Lifetime Gross'], grid = False, figsize=(20,10),\n",
    "                         showfliers=False, showmeans=True, boxprops=boxprops, medianprops=medianprops)\n",
    "bp.set_xlabel('Distributor', fontweight='bold', fontsize=18)\n",
    "bp.set_ylabel('Total Gross in Hundred Millions $', fontweight='bold', fontsize=18)\n",
    "bp.set_title('Lifetime Gross Per Distributor', fontweight='bold', fontsize=24)\n",
    "bp.tick_params(axis='y', labelsize=14)\n",
    "bp.tick_params(axis='x', labelsize=14)\n",
    "\n",
    "#show the plot\n",
    "plt.savefig('images/lifetime_gross_per_distributor.png', dpi=300)\n",
    "plt.suptitle(\"\")"
   ]
  },
  {
   "cell_type": "code",
   "execution_count": null,
   "metadata": {},
   "outputs": [],
   "source": [
    "#get mean, median, Q1, Q3 and IQR for each distributor"
   ]
  },
  {
   "cell_type": "code",
   "execution_count": null,
   "metadata": {},
   "outputs": [],
   "source": [
    "paramount_df = top_distributors.loc[top_distributors['Distributor'] == 'Paramount Pictures']\n",
    "para_mean = paramount_df['Lifetime Gross'].mean()\n",
    "para_median = paramount_df['Lifetime Gross'].median()\n",
    "para_q1 = paramount_df['Lifetime Gross'].quantile(.25)\n",
    "para_q3 = paramount_df['Lifetime Gross'].quantile(.75)\n",
    "para_iqr = para_q3 - para_q1\n",
    "print(para_mean)\n",
    "print(para_median)\n",
    "print(para_q1)\n",
    "print(para_q3)\n",
    "print(para_iqr)"
   ]
  },
  {
   "cell_type": "code",
   "execution_count": null,
   "metadata": {},
   "outputs": [],
   "source": [
    "sony_df = top_distributors.loc[top_distributors['Distributor'] == 'Sony Pictures Entertainment (SPE)']\n",
    "sony_mean = sony_df['Lifetime Gross'].mean()\n",
    "sony_median = sony_df['Lifetime Gross'].median()\n",
    "sony_q1 = sony_df['Lifetime Gross'].quantile(.25)\n",
    "sony_q3 = sony_df['Lifetime Gross'].quantile(.75)\n",
    "sony_iqr = sony_q3 - sony_q1\n",
    "print(sony_mean)\n",
    "print(sony_median)\n",
    "print(sony_q1)\n",
    "print(sony_q3)\n",
    "print(sony_iqr)"
   ]
  },
  {
   "cell_type": "code",
   "execution_count": null,
   "metadata": {},
   "outputs": [],
   "source": [
    "fox_df = top_distributors.loc[top_distributors['Distributor'] == 'Twentieth Century Fox']\n",
    "fox_mean = fox_df['Lifetime Gross'].mean()\n",
    "fox_median = fox_df['Lifetime Gross'].median()\n",
    "fox_q1 = fox_df['Lifetime Gross'].quantile(.25)\n",
    "fox_q3 = fox_df['Lifetime Gross'].quantile(.75)\n",
    "fox_iqr = fox_q3 - fox_q1\n",
    "print(fox_mean)\n",
    "print(fox_median)\n",
    "print(fox_q1)\n",
    "print(fox_q3)\n",
    "print(fox_iqr)"
   ]
  },
  {
   "cell_type": "code",
   "execution_count": null,
   "metadata": {},
   "outputs": [],
   "source": [
    "uni_df = top_distributors.loc[top_distributors['Distributor'] == 'Universal Pictures']\n",
    "uni_mean = uni_df['Lifetime Gross'].mean()\n",
    "uni_median = uni_df['Lifetime Gross'].median()\n",
    "uni_q1 = uni_df['Lifetime Gross'].quantile(.25)\n",
    "uni_q3 = uni_df['Lifetime Gross'].quantile(.75)\n",
    "uni_iqr = uni_q3 - fox_q1\n",
    "print(uni_mean)\n",
    "print(uni_median)\n",
    "print(uni_q1)\n",
    "print(uni_q3)\n",
    "print(uni_iqr)"
   ]
  },
  {
   "cell_type": "code",
   "execution_count": null,
   "metadata": {},
   "outputs": [],
   "source": [
    "warner_df = top_distributors.loc[top_distributors['Distributor'] == 'Warner Bros.']\n",
    "warner_mean = warner_df['Lifetime Gross'].mean()\n",
    "warner_median = warner_df['Lifetime Gross'].median()\n",
    "warner_q1 = warner_df['Lifetime Gross'].quantile(.25)\n",
    "warner_q3 = warner_df['Lifetime Gross'].quantile(.75)\n",
    "warner_iqr = warner_q3 - warner_q1\n",
    "print(warner_mean)\n",
    "print(warner_median)\n",
    "print(warner_q1)\n",
    "print(warner_q3)\n",
    "print(warner_iqr)"
   ]
  },
  {
   "cell_type": "code",
   "execution_count": null,
   "metadata": {},
   "outputs": [],
   "source": []
  }
 ],
 "metadata": {
  "kernelspec": {
   "display_name": "learn-env",
   "language": "python",
   "name": "learn-env"
  },
  "language_info": {
   "codemirror_mode": {
    "name": "ipython",
    "version": 3
   },
   "file_extension": ".py",
   "mimetype": "text/x-python",
   "name": "python",
   "nbconvert_exporter": "python",
   "pygments_lexer": "ipython3",
   "version": "3.6.9"
  }
 },
 "nbformat": 4,
 "nbformat_minor": 4
}
